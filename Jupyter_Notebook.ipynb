{
 "cells": [
  {
   "cell_type": "markdown",
   "metadata": {},
   "source": [
    "<center>\n",
    "    <img src=\"https://cf-courses-data.s3.us.cloud-object-storage.appdomain.cloud/IBMDeveloperSkillsNetwork-DS0105EN-SkillsNetwork/labs/Module2/images/SN_web_lightmode.png\" width=\"300\" alt=\"cognitiveclass.ai logo\"  />\n",
    "</center>\n"
   ]
  },
  {
   "cell_type": "markdown",
   "metadata": {},
   "source": [
    "#### Add your code below following the instructions given in the course\n"
   ]
  },
  {
   "cell_type": "markdown",
   "metadata": {},
   "source": [
    "# My Jupyter Notebook on IBM Watson Studio"
   ]
  },
  {
   "cell_type": "markdown",
   "metadata": {},
   "source": [
    "**Dumitru Tudor** <br>\n",
    "Data Scientist"
   ]
  },
  {
   "cell_type": "markdown",
   "metadata": {},
   "source": [
    "_I am interested in becoming Data Scientist because it offers me the practical skills and knowledge of learning from data._"
   ]
  },
  {
   "cell_type": "markdown",
   "metadata": {},
   "source": [
    "### Here we build and test a recursive function to calculate factorial of a number"
   ]
  },
  {
   "cell_type": "code",
   "execution_count": 19,
   "metadata": {},
   "outputs": [
    {
     "data": {
      "text/plain": [
       "True"
      ]
     },
     "execution_count": 19,
     "metadata": {},
     "output_type": "execute_result"
    }
   ],
   "source": [
    "import numpy as np\n",
    "\n",
    "\n",
    "def factorial(x):\n",
    "    if x == 0:\n",
    "        return 1\n",
    "    else:\n",
    "        return factorial(x - 1) * x\n",
    "\n",
    "\n",
    "x = 9\n",
    "factorial(x) == np.cumprod(np.arange(1, x + 1, 1))[-1]"
   ]
  },
  {
   "cell_type": "markdown",
   "metadata": {},
   "source": [
    "The elements of the **```factorial()```** function are:\n",
    "* **```def```** - keyword used to define a function;\n",
    "* **```factorial```** - the given name of the function;\n",
    "* arguments ( **```x```** ) - any parameters passed to the function;\n",
    "* **```return```** - returns value from the function;\n",
    "\n",
    "Here we describe the algorithm used to build the **```factorial()```** function:\n",
    "1. Read the value of the argument (```x```) and check if it is equal to 0;\n",
    "2. If ```x = 0``` the function returns 0 and stops;\n",
    "3. If ```x != 0```, the function calls itself for the value of ```x - 1``` multiplied by the value of ```x```;\n",
    "4. Repeat step 3 until x = 0;\n",
    "\n",
    "Let's develop the steps of ```factorial(9)```:\n",
    "\n",
    "<table>\n",
    "    <tr style=\"border-bottom:1px solid black\">\n",
    "        <th align=\"center\">Step</th>\n",
    "        <th align=\"center\">factorial(9)</th>\n",
    "    </tr>\n",
    "    <tr>\n",
    "        <td align=\"right\">1</td>\n",
    "        <td align=\"left\">$$9 \\cdot factorial(8)$$</td>\n",
    "    </tr>\n",
    "    <tr>\n",
    "        <td align=\"right\">2</td>\n",
    "        <td align=\"left\">$$9 \\cdot 8 \\cdot factorial(7)$$</td>\n",
    "    </tr>\n",
    "    <tr>\n",
    "        <td align=\"right\">3</td>\n",
    "        <td align=\"left\">$$9 \\cdot 8 \\cdot factorial(6)$$</td>\n",
    "    </tr>\n",
    "    <tr>\n",
    "        <td align=\"right\">$$\\vdots$$</td>\n",
    "        <td align=\"left\">$$\\vdots$$</td>\n",
    "    </tr>\n",
    "    <tr>\n",
    "        <td align=\"right\">8</td>\n",
    "        <td align=\"left\">$$9 \\cdot 8 \\cdot \\dots \\cdot 2 \\cdot factorial(1)$$</td>\n",
    "    </tr>\n",
    "    <tr>\n",
    "        <td align=\"right\">9</td>\n",
    "        <td align=\"left\">$$9 \\cdot 8 \\cdot \\dots \\cdot 1 \\cdot factorial(0)$$</td>\n",
    "    </tr>\n",
    "    <tr>\n",
    "        <td align=\"right\">10</td>\n",
    "        <td align=\"left\">$$9 \\cdot 8 \\cdot \\dots \\cdot 2 \\cdot 1$$</td>\n",
    "    </tr>\n",
    "</table>"
   ]
  }
 ],
 "metadata": {
  "kernelspec": {
   "display_name": "Python",
   "language": "python",
   "name": "conda-env-python-py"
  },
  "language_info": {
   "codemirror_mode": {
    "name": "ipython",
    "version": 3
   },
   "file_extension": ".py",
   "mimetype": "text/x-python",
   "name": "python",
   "nbconvert_exporter": "python",
   "pygments_lexer": "ipython3",
   "version": "3.7.12"
  }
 },
 "nbformat": 4,
 "nbformat_minor": 4
}
